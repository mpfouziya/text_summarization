{
  "nbformat": 4,
  "nbformat_minor": 0,
  "metadata": {
    "colab": {
      "provenance": []
    },
    "kernelspec": {
      "name": "python3",
      "display_name": "Python 3"
    },
    "language_info": {
      "name": "python"
    }
  },
  "cells": [
    {
      "cell_type": "code",
      "execution_count": 1,
      "metadata": {
        "id": "MhkgIP9o9nfY"
      },
      "outputs": [],
      "source": [
        "import os"
      ]
    },
    {
      "cell_type": "code",
      "source": [
        "from pathlib import Path\n",
        "from dataclasses import dataclass\n",
        "#Entity\n",
        "\n",
        "@dataclass(frozen=True)\n",
        "class DataTransformationConfig:\n",
        "  root_dir: Path\n",
        "  data_path: Path\n",
        "  tokenizer_name: Path"
      ],
      "metadata": {
        "id": "ztro5tG59sg5"
      },
      "execution_count": 3,
      "outputs": []
    },
    {
      "cell_type": "code",
      "source": [
        "#Configuration Manager\n",
        "from src.text_summarization.constants import *\n",
        "from src.text_summarization.utils.common import read_yaml, create_directories\n",
        "\n",
        "class ConfigurationManager:\n",
        "  def __init__(\n",
        "      self,\n",
        "      config_filepath = CONFIG_FILE_PATH,\n",
        "      params_filepath = PARAMS_FILE_PATH\n",
        "  ):\n",
        "    self.config = read_yaml(config_filepath)\n",
        "    self.params = read_yaml(params_filepath)\n",
        "\n",
        "    create_directories([self.config.artifacts_root])\n",
        "\n",
        "  def get_data_transformation_config(self)->DataTransformationConfig:\n",
        "    config = self.config.data_transformation\n",
        "    create_directories([config.root_dir])\n",
        "    data_transformation_config = DataTransformationConfig(\n",
        "      root_dir=config.root_dir,\n",
        "      data_path=config.data_path,\n",
        "      tokenizer_name=config.tokenizer_name\n",
        "    )\n",
        "\n",
        "    return data_transformation_config"
      ],
      "metadata": {
        "id": "O4QDG2dEB8dR"
      },
      "execution_count": null,
      "outputs": []
    },
    {
      "cell_type": "code",
      "source": [
        "#Components\n",
        "import os\n",
        "from datasets import load_dataset, load_from_disk\n",
        "from src.text_summarization.logging import logger\n",
        "from transformers import AutoTokenizer\n",
        "\n",
        "\n",
        "class DataTransformation:\n",
        "  def __init__(self, config:DataTransformationConfig):\n",
        "    self.config = config\n",
        "    self.tokenizer = AutoTokenizer.from_pretrained(config.tokenizer_name)\n",
        "\n",
        "  def convert_example_to_features(self,example_batch):\n",
        "    input_encodings=self.tokenizer(example_batch['dialogue'], max_length=1024, truncation=True)\n",
        "\n",
        "    with self.tokenizer.as_target_tokenizer():\n",
        "      target_encodings=self.tokenizer(example_batch['summary'], max_length=128, truncation=True)\n",
        "\n",
        "    return{\n",
        "      'input_ids':input_encodings['input_ids'],\n",
        "      'attention_mask':input_encodings['attention_mask'],\n",
        "      'labels':target_encodings['input_ids']\n",
        "    }\n",
        "\n",
        "  def convert(self):\n",
        "    dataset_samsum = load_from_disk(self.config.data_path)\n",
        "    dataset_samsum_pt = dataset_samsum.map(self.convert_example_to_features, batched = True)\n",
        "    dataset_samsum_pt.save_to_disk(os.path.join(self.config.root_dir,\"samsum_dataset\"))"
      ],
      "metadata": {
        "id": "5CMhTu9mE4tW"
      },
      "execution_count": 4,
      "outputs": []
    },
    {
      "cell_type": "code",
      "source": [
        "#Pipeline\n",
        "try:\n",
        "  config = ConfigurationManager()\n",
        "  data_transformation_config = config.get_data_transformation_config()\n",
        "  data_transformation = DataTransformation(config=data_transformation_config)\n",
        "  data_transformation.convert()\n",
        "\n",
        "except Exception as e:\n",
        "  raise e\n",
        "\n"
      ],
      "metadata": {
        "id": "w6cxyymZW4-T"
      },
      "execution_count": null,
      "outputs": []
    }
  ]
}