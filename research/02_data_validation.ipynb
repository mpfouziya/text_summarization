{
  "nbformat": 4,
  "nbformat_minor": 0,
  "metadata": {
    "colab": {
      "provenance": []
    },
    "kernelspec": {
      "name": "python3",
      "display_name": "Python 3"
    },
    "language_info": {
      "name": "python"
    }
  },
  "cells": [
    {
      "cell_type": "code",
      "execution_count": null,
      "metadata": {
        "id": "eMMcT8y7maxj"
      },
      "outputs": [],
      "source": [
        "import os"
      ]
    },
    {
      "cell_type": "code",
      "source": [
        "#Entity\n",
        "\n",
        "from dataclasses import dataclass\n",
        "from pathlib import Path\n",
        "\n",
        "@dataclass(frozen=True)\n",
        "class DataValidationConfig:\n",
        "  root_dir: Path\n",
        "  STATUS_FILE: str\n",
        "  ALL_REQUIRED_FILES: list\n"
      ],
      "metadata": {
        "id": "OUH3hiY1mtbK"
      },
      "execution_count": null,
      "outputs": []
    },
    {
      "cell_type": "code",
      "source": [
        "#Configuration Manager\n",
        "from src.text_summarization.constants import *\n",
        "from src.text_summarization.utils.common import read_yaml, create_directories\n",
        "\n",
        "\n",
        "class ConfigurationManager:\n",
        "    def __init__(\n",
        "            self,\n",
        "            config_filepath=CONFIG_FILE_PATH,\n",
        "            params_filepath=PARAMS_FILE_PATH):\n",
        "        self.config = read_yaml(config_filepath)\n",
        "        self.params = read_yaml(params_filepath)\n",
        "\n",
        "        create_directories([self.config.artifacts_root])\n",
        "\n",
        "    def get_data_validation_config(self) -> DataValidationConfig:\n",
        "        config = self.config.data_validation\n",
        "\n",
        "        create_directories([config.root_dir])\n",
        "\n",
        "        data_validation_config = DataValidationConfig(\n",
        "            root_dir=config.root_dir,\n",
        "            STATUS_FILE=config.STATUS_FILE,\n",
        "            ALL_REQUIRED_FILES=config.ALL_REQUIRED_FILES\n",
        "        )\n",
        "        return data_validation_config"
      ],
      "metadata": {
        "id": "Gelmmb65n6Up"
      },
      "execution_count": null,
      "outputs": []
    },
    {
      "cell_type": "code",
      "source": [
        "#Components\n",
        "\n",
        "import os\n",
        "from src.text_summarization.logger import logger\n",
        "\n",
        "class DataValidation:\n",
        "  def __init__(self, config: DataValidationConfig):\n",
        "    self.config = config\n",
        "  def validate_all_files_exist(self)->bool:\n",
        "    try:\n",
        "      validation_status = None\n",
        "\n",
        "      all_files = os.listdir(os.path.join(\"artifacts\",\"data_ingestion\",\"samsum_dataset\"))\n",
        "\n",
        "      for file in all_files:\n",
        "        if file not in self.config.ALL_REQUIRED_FILES:\n",
        "          validation_status = False\n",
        "          with open(self.config.STATUS_FILE, 'w') as f:\n",
        "            f.write(f\"Validation status: {validation_status}\")\n",
        "\n",
        "        else:\n",
        "          validation_status = True\n",
        "          with open(self.config.STATUS_FILE, 'w') as f:\n",
        "            f.write(f\"Validation status: {validation_status}\")\n",
        "\n",
        "      return validation_status\n",
        "\n",
        "    except Exception as e:\n",
        "      raise e\n"
      ],
      "metadata": {
        "id": "AVP0bzl5o7CZ"
      },
      "execution_count": null,
      "outputs": []
    },
    {
      "cell_type": "code",
      "source": [
        "#Pipeline\n",
        "\n",
        "try:\n",
        "  config = ConfigurationManager()\n",
        "  data_validation_config = config.get_data_validation_config()\n",
        "  data_validation = DataValidation(config=data_validation_config)\n",
        "  data_validation.validate_all_files_exist()\n",
        "except Exception as e:\n",
        "  raise e\n"
      ],
      "metadata": {
        "id": "C-wOngwa3zZx"
      },
      "execution_count": null,
      "outputs": []
    }
  ]
}