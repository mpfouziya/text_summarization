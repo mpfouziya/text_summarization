{
  "nbformat": 4,
  "nbformat_minor": 0,
  "metadata": {
    "colab": {
      "provenance": []
    },
    "kernelspec": {
      "name": "python3",
      "display_name": "Python 3"
    },
    "language_info": {
      "name": "python"
    }
  },
  "cells": [
    {
      "cell_type": "code",
      "execution_count": null,
      "metadata": {
        "id": "Vo1ZoNc32hwj"
      },
      "outputs": [],
      "source": [
        "import os\n"
      ]
    },
    {
      "cell_type": "code",
      "source": [
        "#Entity\n",
        "\n",
        "from dataclasses import dataclass\n",
        "from pathlib import Path\n",
        "\n",
        "@dataclass(frozen=True)\n",
        "class DataIngestionConfig:\n",
        "  root_dir:Path\n",
        "  source_URL:str\n",
        "  local_data_file:Path\n",
        "  unzip_dir:Path"
      ],
      "metadata": {
        "id": "Y3zfTvuw2vTM"
      },
      "execution_count": 3,
      "outputs": []
    },
    {
      "cell_type": "code",
      "source": [
        "#Configuration Manager\n",
        "\n",
        "from src.text_summarization.constants import *\n",
        "from src.text_summarization.utils.common import read_yaml, create_directories"
      ],
      "metadata": {
        "id": "ozcLv-r-4ll-"
      },
      "execution_count": null,
      "outputs": []
    },
    {
      "cell_type": "code",
      "source": [
        "class ConfigurationManager:\n",
        "  def __init__(\n",
        "      self,\n",
        "      config_filepath = CONFIG_FILE_PATH,\n",
        "      params_filepath = PARAMS_FILE_PATH):\n",
        "\n",
        "    self.config = read_yaml(config_filepath)\n",
        "    self.params = read_yaml(params_filepath)\n",
        "\n",
        "    create_directories(self.config.artifacts_root)\n",
        "\n",
        "\n",
        "  def get_data_ingestion_config(self) -> DataIngestionConfig:\n",
        "    config=self.config.data_ingestion\n",
        "\n",
        "    create_directories([config.root_dir])\n",
        "\n",
        "    data_ingestion_config=DataIngestionConfig(\n",
        "        root_dir=config.root_dir,\n",
        "        source_URL=config.source_URL,\n",
        "        local_data_file=config.local_data_file,\n",
        "        unzip_dir=config.unzip_dir\n",
        "    )\n",
        "    return data_ingestion_config"
      ],
      "metadata": {
        "id": "7nc2MvpL-e42"
      },
      "execution_count": null,
      "outputs": []
    },
    {
      "cell_type": "code",
      "source": [
        "#Components\n",
        "import os\n",
        "import urllib.request as request\n",
        "import zipfile\n",
        "from src.text_summarization.logging import logger\n",
        "from src.text_summarization.utils.common import get_size"
      ],
      "metadata": {
        "id": "fqmo7OLV-uxm"
      },
      "execution_count": null,
      "outputs": []
    },
    {
      "cell_type": "code",
      "source": [
        "class DataIngestion:\n",
        "  def __init__(self, config: DataIngestionConfig):\n",
        "    self.config = config\n",
        "\n",
        "  def download_file(self):\n",
        "    if not os.path.exists(self.config.local_data_file):\n",
        "      filename, headers = request.urlretrieve(\n",
        "          url = self.config.source_URL,\n",
        "          filename = self.config.local_data_file\n",
        "      )\n",
        "      logger.info(f\"{filename} download! with following info: \\n{headers}\")\n",
        "    else:\n",
        "      logger.info(f\"File already exists of size:{get_size(Path(self.config.local_data_file))}\")\n",
        "\n",
        "  def extract_zip_file(self):\n",
        "    \"\"\"\n",
        "     zip_file_path:str\n",
        "     Extracts the zip file into the data directory\n",
        "     Function returns None\n",
        "\n",
        "    \"\"\"\n",
        "    unzip_path = self.config.unzip_dir\n",
        "    os.makedirs(unzip_path, exist_ok=True)\n",
        "    with zipfile.ZipFile(self.config.local_data_file, 'r') as zip_ref:\n",
        "      zip_ref.extractall(unzip_path)"
      ],
      "metadata": {
        "id": "N5Zda4fL_AZo"
      },
      "execution_count": null,
      "outputs": []
    },
    {
      "cell_type": "code",
      "source": [
        "try:\n",
        "  config = ConfigurationManager()\n",
        "  data_ingestion_config = config.get_data_ingestion_config()\n",
        "  data_ingestion = DataIngestion(config=data_ingestion_config)\n",
        "  data_ingestion.download_file()\n",
        "  data_ingestion.extract_zip_file()\n",
        "\n",
        "except Exception as e:\n",
        "  raise e"
      ],
      "metadata": {
        "id": "AYntewHWA-dU"
      },
      "execution_count": null,
      "outputs": []
    }
  ]
}